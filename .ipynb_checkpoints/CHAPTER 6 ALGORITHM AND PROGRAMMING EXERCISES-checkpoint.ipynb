{
 "cells": [
  {
   "cell_type": "markdown",
   "id": "21921432",
   "metadata": {},
   "source": [
    "# ALGORITHM QUESTION 1\n",
    "###### Write a program that opens an output file with the filename , writes your name to the file, then closes the file."
   ]
  },
  {
   "cell_type": "code",
   "execution_count": 1,
   "id": "bd233219",
   "metadata": {},
   "outputs": [],
   "source": [
    "# Specify your name\n",
    "# Open the file in write mode ('w')\n",
    "# Wire your name to the file\n",
    "# Close file"
   ]
  },
  {
   "cell_type": "code",
   "execution_count": 2,
   "id": "c15f35e7",
   "metadata": {},
   "outputs": [
    {
     "name": "stdout",
     "output_type": "stream",
     "text": [
      "Success! Name written to file my_name.txt\n"
     ]
    }
   ],
   "source": [
    "def main():\n",
    "    # Specify your name\n",
    "    your_name = 'Joshua Yerian'\n",
    "\n",
    "    # filename\n",
    "    filename = 'my_name.txt'\n",
    "    \n",
    "    # Open the file in write mode\n",
    "    myfile = open('my_name.txt', 'w')\n",
    "    \n",
    "    # Write name to the file\n",
    "    myfile.write(your_name)\n",
    "    \n",
    "    # Close file\n",
    "    myfile.close()\n",
    "    print(f'Success! Name written to file {filename}')\n",
    "\n",
    "# Call the main function\n",
    "if __name__ == '__main__':\n",
    "    main()"
   ]
  },
  {
   "cell_type": "code",
   "execution_count": null,
   "id": "313996d0",
   "metadata": {},
   "outputs": [],
   "source": []
  }
 ],
 "metadata": {
  "kernelspec": {
   "display_name": "Python 3 (ipykernel)",
   "language": "python",
   "name": "python3"
  },
  "language_info": {
   "codemirror_mode": {
    "name": "ipython",
    "version": 3
   },
   "file_extension": ".py",
   "mimetype": "text/x-python",
   "name": "python",
   "nbconvert_exporter": "python",
   "pygments_lexer": "ipython3",
   "version": "3.11.4"
  }
 },
 "nbformat": 4,
 "nbformat_minor": 5
}
