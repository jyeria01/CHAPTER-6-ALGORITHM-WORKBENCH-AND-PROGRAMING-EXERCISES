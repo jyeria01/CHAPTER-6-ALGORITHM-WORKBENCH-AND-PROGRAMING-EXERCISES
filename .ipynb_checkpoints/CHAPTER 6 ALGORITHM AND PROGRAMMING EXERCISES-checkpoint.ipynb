{
 "cells": [
  {
   "cell_type": "markdown",
   "id": "5565cadf",
   "metadata": {},
   "source": [
    "# ALGORITHM QUESTION 1\n",
    "###### Write a program that opens an output file with the filename , writes your name to the file, then closes the file."
   ]
  },
  {
   "cell_type": "code",
   "execution_count": 1,
   "id": "6371a8f5",
   "metadata": {},
   "outputs": [],
   "source": [
    "# Specify your name\n",
    "# Open the file in write mode ('w')\n",
    "# Wire your name to the file\n",
    "# Close file"
   ]
  },
  {
   "cell_type": "code",
   "execution_count": 2,
   "id": "a32d8c4f",
   "metadata": {},
   "outputs": [
    {
     "name": "stdout",
     "output_type": "stream",
     "text": [
      "Success! Name written to file my_name.txt\n"
     ]
    }
   ],
   "source": [
    "def main():\n",
    "    # Specify your name\n",
    "    your_name = 'Joshua Yerian'\n",
    "\n",
    "    # filename\n",
    "    filename = 'my_name.txt'\n",
    "    \n",
    "    # Open the file in write mode\n",
    "    myfile = open('my_name.txt', 'w')\n",
    "    \n",
    "    # Write name to the file\n",
    "    myfile.write(your_name)\n",
    "    \n",
    "    # Close file\n",
    "    myfile.close()\n",
    "    print(f'Success! Name written to file {filename}')\n",
    "\n",
    "# Call the main function\n",
    "if __name__ == '__main__':\n",
    "    main()"
   ]
  },
  {
   "cell_type": "markdown",
   "id": "1834343f",
   "metadata": {},
   "source": [
    "# ALGORITHM QUESTION 2\n",
    "###### Write a program that opens the my_name.txt file that was created by the program in problem 1, reads your name from the file, displays the name on the screen, then closes the file."
   ]
  },
  {
   "cell_type": "code",
   "execution_count": 3,
   "id": "48b53017",
   "metadata": {},
   "outputs": [],
   "source": [
    "# Speficy the filename opening\n",
    "# Open the file in read mode ('r')\n",
    "# Display the name on the screen"
   ]
  },
  {
   "cell_type": "code",
   "execution_count": 4,
   "id": "2a6c8ba8",
   "metadata": {},
   "outputs": [
    {
     "name": "stdout",
     "output_type": "stream",
     "text": [
      "My name is Joshua Yerian\n"
     ]
    }
   ],
   "source": [
    "def main():\n",
    "    # Open file named my_name.txt\n",
    "    infile = open('my_name.txt', 'r')\n",
    "    \n",
    "    # Read the file's contents\n",
    "    file_contents = infile.read()\n",
    "    \n",
    "    # Close the file\n",
    "    infile.close()\n",
    "    \n",
    "    # Print the data that was read into memory\n",
    "    print(f'My name is {file_contents}')\n",
    "\n",
    "# Call the main function and display\n",
    "if __name__ =='__main__':\n",
    "          main()"
   ]
  },
  {
   "cell_type": "markdown",
   "id": "45d8e495",
   "metadata": {},
   "source": [
    "# PROGRAMMING EXERICISE 1\n",
    "###### Assume a file containing a series of integers is named numbers.txt and exists on the computer’s disk. Write a program that displays all of the numbers in the file"
   ]
  },
  {
   "cell_type": "code",
   "execution_count": 5,
   "id": "6edf717e",
   "metadata": {},
   "outputs": [],
   "source": [
    "# Using previous written program numbers.txt\n",
    "# Open the file named numbers.txt\n",
    "# Read all the line from the file\n",
    "# Display the numbers in the file"
   ]
  },
  {
   "cell_type": "code",
   "execution_count": 6,
   "id": "94842cd9",
   "metadata": {},
   "outputs": [
    {
     "name": "stdout",
     "output_type": "stream",
     "text": [
      "4\n",
      "10\n",
      "23\n",
      "47\n",
      "64\n",
      "\n"
     ]
    }
   ],
   "source": [
    "def main():\n",
    "    \n",
    "    # Open numbers.txt file for reading\n",
    "    infile = open('numbers.txt', 'r')\n",
    "    \n",
    "    # Read the file's contents\n",
    "    contents = infile.read()\n",
    "    \n",
    "    # Display the file's contents\n",
    "    print(contents)\n",
    "    \n",
    "    # Close the file\n",
    "    infile.close()\n",
    "    \n",
    "# Call the main function\n",
    "if __name__ == '__main__':\n",
    "    main()"
   ]
  },
  {
   "cell_type": "code",
   "execution_count": 7,
   "id": "5181886b",
   "metadata": {},
   "outputs": [
    {
     "name": "stdout",
     "output_type": "stream",
     "text": [
      "Number 1: 4\n",
      "Number 2: 10\n",
      "Number 3: 23\n",
      "Number 4: 47\n",
      "Number 5: 64\n",
      "The total of all numbers is: 148\n"
     ]
    }
   ],
   "source": [
    "# ASKED CHATGPT TO DISPLAY CODE IN A DIFFERENT WAY AND THIS IS WHAT IT SPIT OUT - SO COOL\n",
    "def main():\n",
    "    try:\n",
    "        # Open numbers.txt file for reading\n",
    "        infile = open('numbers.txt', 'r')\n",
    "\n",
    "        # Initialize an accumulator to 0.0\n",
    "        total = 0\n",
    "        count = 0\n",
    "\n",
    "        # Read the file line by line\n",
    "        for line in infile:\n",
    "            try:\n",
    "                # Convert each line to an integer\n",
    "                num = int(line.strip())\n",
    "                total += num\n",
    "                count += 1\n",
    "                # Display each number\n",
    "                print(f'Number {count}: {num}')\n",
    "            except ValueError:\n",
    "                print(f\"Skipping non-integer value on line {count + 1}\")\n",
    "\n",
    "        # Display the total of all numbers\n",
    "        print(f'The total of all numbers is: {total}')\n",
    "\n",
    "        # Close the file\n",
    "        infile.close()\n",
    "\n",
    "    except FileNotFoundError:\n",
    "        print(\"File 'numbers.txt' not found.\")\n",
    "    except Exception as e:\n",
    "        print(f\"An error occurred: {e}\")\n",
    "\n",
    "# Call the main function\n",
    "if __name__ == '__main__':\n",
    "    main()\n"
   ]
  },
  {
   "cell_type": "markdown",
   "id": "894c1643",
   "metadata": {},
   "source": [
    "# PROGRAMMING EXERICISE 6\n",
    "###### Assume a file containing a series of integers is named numbers.txt and exists on the computer’s disk. Write a program that calculates the average of all the numbers stored in the file."
   ]
  },
  {
   "cell_type": "code",
   "execution_count": 8,
   "id": "39aa895c",
   "metadata": {},
   "outputs": [],
   "source": [
    "# Open numbers.txt file for reading\n",
    "# Initialize variables\n",
    "# Read lines in the file\n",
    "# Convert the line to integer\n",
    "# Close the file\n",
    "# Calculate average\n",
    "# Call the main function to display averages"
   ]
  },
  {
   "cell_type": "code",
   "execution_count": 9,
   "id": "6270c47f",
   "metadata": {},
   "outputs": [
    {
     "name": "stdout",
     "output_type": "stream",
     "text": [
      "The average of number.txt is: 29.6\n"
     ]
    }
   ],
   "source": [
    "def main():\n",
    "    \n",
    "    # Open numbers.txt file for reading\n",
    "    infile = open('numbers.txt', 'r')\n",
    "    \n",
    "    # Initialize variables\n",
    "    total_sum = 0\n",
    "    count = 0\n",
    "    \n",
    "    # Read each line in the file\n",
    "    for line in infile:\n",
    "        try:\n",
    "            number = int(line)\n",
    "            total_sum +=  number\n",
    "            count += 1\n",
    "        except ValueError:\n",
    "            print('An error occurred.')\n",
    "    \n",
    "    # Close file\n",
    "    infile.close()\n",
    "    \n",
    "    # Calculate average\n",
    "    average = total_sum / count\n",
    "    print(f'The average of number.txt is: { average}') #148 / 5\n",
    "\n",
    "if __name__ == '__main__':\n",
    "    main()"
   ]
  },
  {
   "cell_type": "markdown",
   "id": "2d9e38ce",
   "metadata": {},
   "source": [
    "# PROGRAMMING EXERICISE 9 - EXCEPTION HANDING\n",
    "###### Modify the program that you wrote for Exercise 6 so it handles the following exceptions:\n",
    "                \n",
    "It should handle any IOERROR exceptions that are raised when the file is opened and data is read from it.\n",
    "                \n",
    "It should handle any ValueError exceptions that are raised when the items that are read from the file are converted to a number."
   ]
  },
  {
   "cell_type": "code",
   "execution_count": 10,
   "id": "460e892e",
   "metadata": {},
   "outputs": [],
   "source": [
    "# Copy program from EXERCISE 6\n",
    "# Open numbers.txt file for reading\n",
    "# Initialize variables\n",
    "# Read lines in the file\n",
    "# Convert the line to integer\n",
    "# Close the file\n",
    "# Calculate average\n",
    "# Add Error Message\n",
    "# Call the main function to display averages"
   ]
  },
  {
   "cell_type": "code",
   "execution_count": 11,
   "id": "1077a182",
   "metadata": {},
   "outputs": [
    {
     "name": "stdout",
     "output_type": "stream",
     "text": [
      "The average of numbers.txt is: 29.6\n"
     ]
    }
   ],
   "source": [
    "def main():\n",
    "    try:\n",
    "        \n",
    "    # Open numbers.txt file for reading\n",
    "        infile = open('numbers.txt', 'r')\n",
    "    \n",
    "        # Initialize variables\n",
    "        total_sum = 0\n",
    "        count = 0\n",
    "    \n",
    "     # Read each line in the file\n",
    "        for line in infile:\n",
    "            try:\n",
    "                number = int(line)\n",
    "                total_sum +=  number\n",
    "                count += 1\n",
    "            except ValueError:\n",
    "                print('An error occurred.')\n",
    "        \n",
    "        # Close file\n",
    "        infile.close()\n",
    "        \n",
    "        if count == 0:\n",
    "            print('ERROR: No data in the file.')\n",
    "        else:\n",
    "            # Calculate average\n",
    "            average = total_sum / count\n",
    "            print(f'The average of numbers.txt is: {average}')\n",
    "    \n",
    "    except IOError:\n",
    "        print('Error: Attempting to open file... Could not open file.')\n",
    "\n",
    "if __name__ == '__main__':\n",
    "    main()"
   ]
  },
  {
   "cell_type": "code",
   "execution_count": 12,
   "id": "0173e3bd",
   "metadata": {},
   "outputs": [],
   "source": [
    "# Changing file name numbers.txt to check error"
   ]
  },
  {
   "cell_type": "code",
   "execution_count": 13,
   "id": "471c8e31",
   "metadata": {},
   "outputs": [
    {
     "name": "stdout",
     "output_type": "stream",
     "text": [
      "Error: Attempting to open file... Could not open file.\n"
     ]
    }
   ],
   "source": [
    "def main():\n",
    "    try:\n",
    "        \n",
    "    # Open numbers.txt file for reading\n",
    "        infile = open('nummbies.txt', 'r')\n",
    "    \n",
    "        # Initialize variables\n",
    "        total_sum = 0\n",
    "        count = 0\n",
    "    \n",
    "     # Read each line in the file\n",
    "        for line in infile:\n",
    "            try:\n",
    "                number = int(line)\n",
    "                total_sum +=  number\n",
    "                count += 1\n",
    "            except ValueError:\n",
    "                print('An error occurred.')\n",
    "        \n",
    "        # Close file\n",
    "        infile.close()\n",
    "        \n",
    "        if count == 0:\n",
    "            print('ERROR: No data in the file.')\n",
    "        else:\n",
    "            # Calculate average\n",
    "            average = total_sum / count\n",
    "            print(f'The average of numbers.txt is: {average}')\n",
    "    \n",
    "    except IOError:\n",
    "        print('Error: Attempting to open file... Could not open file.')\n",
    "\n",
    "if __name__ == '__main__':\n",
    "    main()"
   ]
  },
  {
   "cell_type": "markdown",
   "id": "5fb58a69",
   "metadata": {},
   "source": [
    "# PROGRAMMING EXERICISE 3 - LINE NUMBERS\n",
    "###### Write a program that asks the user for the name of a file. The program should display the contents of the file with each line preceded with a line number followed by a colon. The line numbering should start at 1"
   ]
  },
  {
   "cell_type": "code",
   "execution_count": 14,
   "id": "887be9d0",
   "metadata": {},
   "outputs": [],
   "source": [
    "# Ask user for the name of the file\n",
    "# Open the file for reading\n",
    "# Initialize a line number counter\n",
    "# Read and display each line with line numbers\n",
    "# Print the line with line number\n",
    "# Display main function"
   ]
  },
  {
   "cell_type": "code",
   "execution_count": null,
   "id": "a5f8e12d",
   "metadata": {},
   "outputs": [],
   "source": [
    "def main():\n",
    "    try:\n",
    "        # Ask user for the name of the file\n",
    "        file_name = (input('Enter the name of the file: '))\n",
    "    \n",
    "        # Open the file for reading\n",
    "        with open(file_name, 'r') as file:\n",
    "    \n",
    "        # Initialize a line number counter\n",
    "            line_number = 1\n",
    "    \n",
    "        # Read and display each line with line numbers\n",
    "        for line in file:\n",
    "            clean_line = line.strip()\n",
    "        \n",
    "        # Print the line with line number\n",
    "        print(f'{line_number}: {clean_line}')\n",
    "        line_number += 1\n",
    "    \n",
    "    except :\n",
    "        print(f'File {file_name} not found.')\n",
    "        \n",
    "# Display main function\n",
    "if __name__ == '__main__':\n",
    "    main()"
   ]
  },
  {
   "cell_type": "code",
   "execution_count": null,
   "id": "88881649",
   "metadata": {},
   "outputs": [],
   "source": []
  }
 ],
 "metadata": {
  "kernelspec": {
   "display_name": "Python 3 (ipykernel)",
   "language": "python",
   "name": "python3"
  },
  "language_info": {
   "codemirror_mode": {
    "name": "ipython",
    "version": 3
   },
   "file_extension": ".py",
   "mimetype": "text/x-python",
   "name": "python",
   "nbconvert_exporter": "python",
   "pygments_lexer": "ipython3",
   "version": "3.11.4"
  }
 },
 "nbformat": 4,
 "nbformat_minor": 5
}
