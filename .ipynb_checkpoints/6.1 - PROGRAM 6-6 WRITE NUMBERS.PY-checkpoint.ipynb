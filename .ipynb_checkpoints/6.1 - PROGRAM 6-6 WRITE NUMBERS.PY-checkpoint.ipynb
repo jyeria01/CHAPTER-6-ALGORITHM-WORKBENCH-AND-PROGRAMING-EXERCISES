{
 "cells": [
  {
   "cell_type": "code",
   "execution_count": 3,
   "id": "dac25ce9",
   "metadata": {},
   "outputs": [
    {
     "name": "stdout",
     "output_type": "stream",
     "text": [
      "Enter a number: 4\n",
      "Enter another number: 10\n",
      "Enter another number: 23\n",
      "Enter another number: 47\n",
      "Enter another number: 64\n",
      "Data written to numbers.txt\n"
     ]
    }
   ],
   "source": [
    "def main():\n",
    "    # Open a file for writing\n",
    "    outfile = open('numbers.txt', 'w')\n",
    "    \n",
    "    # Get three numbers from the user.\n",
    "    num1 = int(input('Enter a number: '))\n",
    "    num2 = int(input('Enter another number: '))\n",
    "    num3 = int(input('Enter another number: '))\n",
    "    num4 = int(input('Enter another number: '))\n",
    "    num5 = int(input('Enter another number: '))\n",
    "    \n",
    "    # Write the numbers to the file.\n",
    "    outfile.write(str(num1) + '\\n')\n",
    "    outfile.write(str(num2) + '\\n')\n",
    "    outfile.write(str(num3) + '\\n')\n",
    "    outfile.write(str(num4) + '\\n')\n",
    "    outfile.write(str(num5) + '\\n')\n",
    "    \n",
    "    # Close the file\n",
    "    outfile.close()\n",
    "    print('Data written to numbers.txt')\n",
    "\n",
    "# Call the main function\n",
    "if __name__ =='__main__':\n",
    "    main()"
   ]
  },
  {
   "cell_type": "code",
   "execution_count": null,
   "id": "ec199d31",
   "metadata": {},
   "outputs": [],
   "source": []
  }
 ],
 "metadata": {
  "kernelspec": {
   "display_name": "Python 3 (ipykernel)",
   "language": "python",
   "name": "python3"
  },
  "language_info": {
   "codemirror_mode": {
    "name": "ipython",
    "version": 3
   },
   "file_extension": ".py",
   "mimetype": "text/x-python",
   "name": "python",
   "nbconvert_exporter": "python",
   "pygments_lexer": "ipython3",
   "version": "3.11.4"
  }
 },
 "nbformat": 4,
 "nbformat_minor": 5
}
