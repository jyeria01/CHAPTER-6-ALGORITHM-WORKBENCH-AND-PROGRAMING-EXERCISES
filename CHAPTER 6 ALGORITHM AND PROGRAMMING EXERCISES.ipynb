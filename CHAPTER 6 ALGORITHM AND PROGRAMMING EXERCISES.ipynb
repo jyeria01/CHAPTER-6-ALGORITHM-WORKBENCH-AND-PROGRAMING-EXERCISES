{
 "cells": [
  {
   "cell_type": "markdown",
   "id": "d4762df8",
   "metadata": {},
   "source": [
    "# ALGORITHM QUESTION 1\n",
    "###### Write a program that opens an output file with the filename , writes your name to the file, then closes the file."
   ]
  },
  {
   "cell_type": "code",
   "execution_count": 1,
   "id": "14c89a3d",
   "metadata": {},
   "outputs": [],
   "source": [
    "# Specify your name\n",
    "# Open the file in write mode ('w')\n",
    "# Wire your name to the file\n",
    "# Close file"
   ]
  },
  {
   "cell_type": "code",
   "execution_count": 15,
   "id": "6a0635cb",
   "metadata": {},
   "outputs": [
    {
     "ename": "NameError",
     "evalue": "name 'my_name' is not defined",
     "output_type": "error",
     "traceback": [
      "\u001b[1;31m---------------------------------------------------------------------------\u001b[0m",
      "\u001b[1;31mNameError\u001b[0m                                 Traceback (most recent call last)",
      "Cell \u001b[1;32mIn[15], line 20\u001b[0m\n\u001b[0;32m     18\u001b[0m \u001b[38;5;66;03m# Call the main function\u001b[39;00m\n\u001b[0;32m     19\u001b[0m \u001b[38;5;28;01mif\u001b[39;00m \u001b[38;5;18m__name__\u001b[39m \u001b[38;5;241m==\u001b[39m \u001b[38;5;124m'\u001b[39m\u001b[38;5;124m__main__\u001b[39m\u001b[38;5;124m'\u001b[39m:\n\u001b[1;32m---> 20\u001b[0m     main()\n",
      "Cell \u001b[1;32mIn[15], line 6\u001b[0m, in \u001b[0;36mmain\u001b[1;34m()\u001b[0m\n\u001b[0;32m      3\u001b[0m your_name \u001b[38;5;241m=\u001b[39m \u001b[38;5;124m'\u001b[39m\u001b[38;5;124mJoshua Yerian\u001b[39m\u001b[38;5;124m'\u001b[39m\n\u001b[0;32m      5\u001b[0m \u001b[38;5;66;03m# filename\u001b[39;00m\n\u001b[1;32m----> 6\u001b[0m filename \u001b[38;5;241m=\u001b[39m my_name\u001b[38;5;241m.\u001b[39mtxt\n\u001b[0;32m      8\u001b[0m \u001b[38;5;66;03m# Open the file in write mode\u001b[39;00m\n\u001b[0;32m      9\u001b[0m myfile \u001b[38;5;241m=\u001b[39m \u001b[38;5;28mopen\u001b[39m(\u001b[38;5;124m'\u001b[39m\u001b[38;5;124mmy_name.txt\u001b[39m\u001b[38;5;124m'\u001b[39m, \u001b[38;5;124m'\u001b[39m\u001b[38;5;124mw\u001b[39m\u001b[38;5;124m'\u001b[39m)\n",
      "\u001b[1;31mNameError\u001b[0m: name 'my_name' is not defined"
     ]
    }
   ],
   "source": [
    "def main():\n",
    "    # Specify your name\n",
    "    your_name = 'Joshua Yerian'\n",
    "\n",
    "    # filename\n",
    "    filename = my_name.txt\n",
    "    \n",
    "    # Open the file in write mode\n",
    "    myfile = open('my_name.txt', 'w')\n",
    "    \n",
    "    # Write name to the file\n",
    "    file.write(your_name)\n",
    "    \n",
    "    # Close file\n",
    "    myfile.close()\n",
    "    print(f'Success! Name written to file {filename}')\n",
    "\n",
    "# Call the main function\n",
    "if __name__ == '__main__':\n",
    "    main()"
   ]
  },
  {
   "cell_type": "code",
   "execution_count": null,
   "id": "ec6ed922",
   "metadata": {},
   "outputs": [],
   "source": []
  }
 ],
 "metadata": {
  "kernelspec": {
   "display_name": "Python 3 (ipykernel)",
   "language": "python",
   "name": "python3"
  },
  "language_info": {
   "codemirror_mode": {
    "name": "ipython",
    "version": 3
   },
   "file_extension": ".py",
   "mimetype": "text/x-python",
   "name": "python",
   "nbconvert_exporter": "python",
   "pygments_lexer": "ipython3",
   "version": "3.11.4"
  }
 },
 "nbformat": 4,
 "nbformat_minor": 5
}
