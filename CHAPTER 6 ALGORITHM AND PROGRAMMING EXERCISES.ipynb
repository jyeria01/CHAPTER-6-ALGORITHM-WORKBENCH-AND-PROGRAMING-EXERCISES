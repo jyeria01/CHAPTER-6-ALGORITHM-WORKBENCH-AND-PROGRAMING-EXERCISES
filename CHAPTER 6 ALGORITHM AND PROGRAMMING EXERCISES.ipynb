{
 "cells": [
  {
   "cell_type": "markdown",
   "id": "5565cadf",
   "metadata": {},
   "source": [
    "# ALGORITHM QUESTION 1\n",
    "###### Write a program that opens an output file with the filename , writes your name to the file, then closes the file."
   ]
  },
  {
   "cell_type": "code",
   "execution_count": 1,
   "id": "6371a8f5",
   "metadata": {},
   "outputs": [],
   "source": [
    "# Specify your name\n",
    "# Open the file in write mode ('w')\n",
    "# Wire your name to the file\n",
    "# Close file"
   ]
  },
  {
   "cell_type": "code",
   "execution_count": 2,
   "id": "a32d8c4f",
   "metadata": {},
   "outputs": [
    {
     "name": "stdout",
     "output_type": "stream",
     "text": [
      "Success! Name written to file my_name.txt\n"
     ]
    }
   ],
   "source": [
    "def main():\n",
    "    # Specify your name\n",
    "    your_name = 'Joshua Yerian'\n",
    "\n",
    "    # filename\n",
    "    filename = 'my_name.txt'\n",
    "    \n",
    "    # Open the file in write mode\n",
    "    myfile = open('my_name.txt', 'w')\n",
    "    \n",
    "    # Write name to the file\n",
    "    myfile.write(your_name)\n",
    "    \n",
    "    # Close file\n",
    "    myfile.close()\n",
    "    print(f'Success! Name written to file {filename}')\n",
    "\n",
    "# Call the main function\n",
    "if __name__ == '__main__':\n",
    "    main()"
   ]
  },
  {
   "cell_type": "markdown",
   "id": "1834343f",
   "metadata": {},
   "source": [
    "# ALGORITHM QUESTION 2\n",
    "###### Write a program that opens the my_name.txt file that was created by the program in problem 1, reads your name from the file, displays the name on the screen, then closes the file."
   ]
  },
  {
   "cell_type": "code",
   "execution_count": 3,
   "id": "48b53017",
   "metadata": {},
   "outputs": [],
   "source": [
    "# Speficy the filename opening\n",
    "# Open the file in read mode ('r')\n",
    "# Display the name on the screen"
   ]
  },
  {
   "cell_type": "code",
   "execution_count": 4,
   "id": "2a6c8ba8",
   "metadata": {},
   "outputs": [
    {
     "name": "stdout",
     "output_type": "stream",
     "text": [
      "My name is Joshua Yerian\n"
     ]
    }
   ],
   "source": [
    "def main():\n",
    "    # Open file named my_name.txt\n",
    "    infile = open('my_name.txt', 'r')\n",
    "    \n",
    "    # Read the file's contents\n",
    "    file_contents = infile.read()\n",
    "    \n",
    "    # Close the file\n",
    "    infile.close()\n",
    "    \n",
    "    # Print the data that was read into memory\n",
    "    print(f'My name is {file_contents}')\n",
    "\n",
    "# Call the main function and display\n",
    "if __name__ =='__main__':\n",
    "          main()"
   ]
  },
  {
   "cell_type": "markdown",
   "id": "45d8e495",
   "metadata": {},
   "source": [
    "# PROGRAMMING EXERICISE 1\n",
    "###### Assume a file containing a series of integers is named numbers.txt and exists on the computer’s disk. Write a program that displays all of the numbers in the file"
   ]
  },
  {
   "cell_type": "code",
   "execution_count": 5,
   "id": "6edf717e",
   "metadata": {},
   "outputs": [],
   "source": [
    "# Using previous written program numbers.txt\n",
    "# Open the file named numbers.txt\n",
    "# Read all the line from the file\n",
    "# Display the numbers in the file"
   ]
  },
  {
   "cell_type": "code",
   "execution_count": 10,
   "id": "94842cd9",
   "metadata": {},
   "outputs": [
    {
     "name": "stdout",
     "output_type": "stream",
     "text": [
      "4\n",
      "10\n",
      "23\n",
      "47\n",
      "64\n",
      "\n"
     ]
    }
   ],
   "source": [
    "def main():\n",
    "    \n",
    "    # Open numbers.txt file for reading\n",
    "    infile = open('numbers.txt', 'r')\n",
    "    \n",
    "    # Read the file's contents\n",
    "    contents = infile.read()\n",
    "    \n",
    "    # Display the file's contents\n",
    "    print(contents)\n",
    "    \n",
    "    # Close the file\n",
    "    infile.close()\n",
    "    \n",
    "# Call the main function\n",
    "if __name__ == '__main__':\n",
    "    main()"
   ]
  },
  {
   "cell_type": "code",
   "execution_count": null,
   "id": "5181886b",
   "metadata": {},
   "outputs": [],
   "source": []
  }
 ],
 "metadata": {
  "kernelspec": {
   "display_name": "Python 3 (ipykernel)",
   "language": "python",
   "name": "python3"
  },
  "language_info": {
   "codemirror_mode": {
    "name": "ipython",
    "version": 3
   },
   "file_extension": ".py",
   "mimetype": "text/x-python",
   "name": "python",
   "nbconvert_exporter": "python",
   "pygments_lexer": "ipython3",
   "version": "3.11.4"
  }
 },
 "nbformat": 4,
 "nbformat_minor": 5
}
