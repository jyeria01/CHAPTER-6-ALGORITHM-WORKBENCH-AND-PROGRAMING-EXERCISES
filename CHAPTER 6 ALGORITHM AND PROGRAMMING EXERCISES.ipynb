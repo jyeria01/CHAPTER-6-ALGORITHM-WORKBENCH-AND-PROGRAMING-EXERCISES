{
 "cells": [
  {
   "cell_type": "markdown",
   "id": "74b6d8e1",
   "metadata": {},
   "source": [
    "# ALGORITHM QUESTION 1\n",
    "###### Write a program that opens an output file with the filename , writes your name to the file, then closes the file."
   ]
  },
  {
   "cell_type": "code",
   "execution_count": 1,
   "id": "ca6ad278",
   "metadata": {},
   "outputs": [],
   "source": [
    "# Specify your name\n",
    "# Open the file in write mode ('w')\n",
    "# Wire your name to the file\n",
    "# Close file"
   ]
  },
  {
   "cell_type": "code",
   "execution_count": 6,
   "id": "5b489d3a",
   "metadata": {},
   "outputs": [],
   "source": [
    "def main():\n",
    "    # Specify your name\n",
    "    your_name = 'Joshua Yerian'\n",
    "\n",
    "    # filename\n",
    "    filename = my_name.txt\n",
    "    \n",
    "    # Open the file in write mode\n",
    "    myfile = open('my_name.txt', 'w')\n",
    "    \n",
    "    # Write name to the file\n",
    "    file.write(your_name)"
   ]
  },
  {
   "cell_type": "code",
   "execution_count": null,
   "id": "b52d42cc",
   "metadata": {},
   "outputs": [],
   "source": []
  }
 ],
 "metadata": {
  "kernelspec": {
   "display_name": "Python 3 (ipykernel)",
   "language": "python",
   "name": "python3"
  },
  "language_info": {
   "codemirror_mode": {
    "name": "ipython",
    "version": 3
   },
   "file_extension": ".py",
   "mimetype": "text/x-python",
   "name": "python",
   "nbconvert_exporter": "python",
   "pygments_lexer": "ipython3",
   "version": "3.11.4"
  }
 },
 "nbformat": 4,
 "nbformat_minor": 5
}
