{
 "cells": [
  {
   "cell_type": "markdown",
   "id": "c1d812b7",
   "metadata": {},
   "source": [
    "# ALGORITHM QUESTION 1\n",
    "###### Write a program that opens an output file with the filename , writes your name to the file, then closes the file."
   ]
  },
  {
   "cell_type": "code",
   "execution_count": 1,
   "id": "76d6c7d1",
   "metadata": {},
   "outputs": [],
   "source": [
    "# Specify your name\n",
    "# Open the file in write mode ('w')\n",
    "# Wire your name to the file\n",
    "# Close file"
   ]
  },
  {
   "cell_type": "code",
   "execution_count": 4,
   "id": "2543ecd5",
   "metadata": {},
   "outputs": [],
   "source": [
    "def main():\n",
    "    # Specify your name\n",
    "    your_name = 'Joshua Yerian'\n",
    "\n",
    "    # filename\n",
    "    filename = my_name.txt\n",
    "pass"
   ]
  },
  {
   "cell_type": "code",
   "execution_count": null,
   "id": "a65a15e4",
   "metadata": {},
   "outputs": [],
   "source": []
  }
 ],
 "metadata": {
  "kernelspec": {
   "display_name": "Python 3 (ipykernel)",
   "language": "python",
   "name": "python3"
  },
  "language_info": {
   "codemirror_mode": {
    "name": "ipython",
    "version": 3
   },
   "file_extension": ".py",
   "mimetype": "text/x-python",
   "name": "python",
   "nbconvert_exporter": "python",
   "pygments_lexer": "ipython3",
   "version": "3.11.4"
  }
 },
 "nbformat": 4,
 "nbformat_minor": 5
}
