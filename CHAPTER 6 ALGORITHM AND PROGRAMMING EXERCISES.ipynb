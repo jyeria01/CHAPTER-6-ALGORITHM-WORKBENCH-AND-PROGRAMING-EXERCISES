{
 "cells": [
  {
   "cell_type": "markdown",
   "id": "37dcf81c",
   "metadata": {},
   "source": [
    "# ALGORITHM QUESTION 1\n",
    "###### Write a program that opens an output file with the filename , writes your name to the file, then closes the file."
   ]
  },
  {
   "cell_type": "code",
   "execution_count": 1,
   "id": "f510b905",
   "metadata": {},
   "outputs": [],
   "source": [
    "# Specify your name\n",
    "# Open the file in write mode ('w')\n",
    "# Wire your name to the file\n",
    "# Close file"
   ]
  },
  {
   "cell_type": "code",
   "execution_count": null,
   "id": "60a58d72",
   "metadata": {},
   "outputs": [],
   "source": []
  }
 ],
 "metadata": {
  "kernelspec": {
   "display_name": "Python 3 (ipykernel)",
   "language": "python",
   "name": "python3"
  },
  "language_info": {
   "codemirror_mode": {
    "name": "ipython",
    "version": 3
   },
   "file_extension": ".py",
   "mimetype": "text/x-python",
   "name": "python",
   "nbconvert_exporter": "python",
   "pygments_lexer": "ipython3",
   "version": "3.11.4"
  }
 },
 "nbformat": 4,
 "nbformat_minor": 5
}
